{
 "cells": [
  {
   "cell_type": "code",
   "id": "initial_id",
   "metadata": {
    "collapsed": true,
    "ExecuteTime": {
     "end_time": "2025-01-13T15:33:22.201282Z",
     "start_time": "2025-01-13T15:33:22.190262Z"
    }
   },
   "source": [
    "#definir una clase triangulo con atributos base y altura, y métodos para calcular el área, imprimir base, altura y área\n",
    "class Triangulo:\n",
    "    def __init__(self, base, altura):\n",
    "        self.base = base\n",
    "        self.altura = altura\n",
    "    def area(self):\n",
    "        return self.base * self.altura / 2\n",
    "    def imprimir(self):\n",
    "        print('Base:', self.base)\n",
    "        print('Altura:', self.altura)\n",
    "        print('Área:', self.area())\n",
    "Triangulo(3, 4).imprimir()"
   ],
   "outputs": [
    {
     "name": "stdout",
     "output_type": "stream",
     "text": [
      "Base: 3\n",
      "Altura: 4\n",
      "Área: 6.0\n"
     ]
    }
   ],
   "execution_count": 1
  },
  {
   "metadata": {
    "ExecuteTime": {
     "end_time": "2025-01-13T15:41:46.440363Z",
     "start_time": "2025-01-13T15:41:46.433569Z"
    }
   },
   "cell_type": "code",
   "source": [
    "#Encapsulamiento, getters, setters y decorador property\n",
    "class Triangulo:\n",
    "    def __init__(self, base, altura):\n",
    "        self.__base = base\n",
    "        self.__altura = altura\n",
    "    def area(self):\n",
    "        return self.__base * self.__altura / 2\n",
    "    def imprimir(self):\n",
    "        print('Base:', self.__base)\n",
    "        print('Altura:', self.__altura)\n",
    "        print('Área:', self.area())\n",
    "    def get_base(self):\n",
    "        return self.__base\n",
    "    def set_base(self, base):\n",
    "        if base > 0:\n",
    "            self.__base = base\n",
    "        else:\n",
    "            print('Base debe ser mayor que cero')\n",
    "    def get_altura(self):\n",
    "        return self.__altura\n",
    "    def set_altura(self, altura):\n",
    "        self.__altura = altura\n",
    "    base = property(get_base, set_base)\n",
    "    altura = property(get_altura, set_altura)\n",
    "\n",
    "t = Triangulo(3, 4).imprimir()"
   ],
   "id": "c9fd35e2bbf46d7f",
   "outputs": [
    {
     "name": "stdout",
     "output_type": "stream",
     "text": [
      "Base: 3\n",
      "Altura: 4\n",
      "Área: 6.0\n"
     ]
    }
   ],
   "execution_count": 2
  },
  {
   "metadata": {
    "ExecuteTime": {
     "end_time": "2025-01-13T15:52:42.854783Z",
     "start_time": "2025-01-13T15:52:42.847119Z"
    }
   },
   "cell_type": "code",
   "source": [
    "#Polimorfismo y herencia\n",
    "class Figura:\n",
    "    def __init__(self, base, altura):\n",
    "        self.base = base\n",
    "        self.altura = altura\n",
    "    def area(self):\n",
    "        pass\n",
    "    def imprimir(self):\n",
    "        print('Base:', self.base)\n",
    "        print('Altura:', self.altura)\n",
    "        print('Área:', self.area())\n",
    "class Triangulo(Figura):\n",
    "    def area(self):\n",
    "        return self.base * self.altura / 2\n",
    "Triangulo(3, 4).imprimir()"
   ],
   "id": "8932f766ce07d7a0",
   "outputs": [
    {
     "name": "stdout",
     "output_type": "stream",
     "text": [
      "Base: 3\n",
      "Altura: 4\n",
      "Área: 6.0\n"
     ]
    }
   ],
   "execution_count": 3
  },
  {
   "metadata": {},
   "cell_type": "code",
   "outputs": [],
   "execution_count": null,
   "source": "#Herencia múltiple",
   "id": "452d6c9b5093c907"
  }
 ],
 "metadata": {
  "kernelspec": {
   "display_name": "Python 3",
   "language": "python",
   "name": "python3"
  },
  "language_info": {
   "codemirror_mode": {
    "name": "ipython",
    "version": 2
   },
   "file_extension": ".py",
   "mimetype": "text/x-python",
   "name": "python",
   "nbconvert_exporter": "python",
   "pygments_lexer": "ipython2",
   "version": "2.7.6"
  }
 },
 "nbformat": 4,
 "nbformat_minor": 5
}
