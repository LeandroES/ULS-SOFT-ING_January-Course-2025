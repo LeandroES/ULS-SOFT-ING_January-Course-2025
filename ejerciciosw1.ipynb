{
  "cells": [
    {
      "cell_type": "code",
      "execution_count": null,
      "metadata": {},
      "outputs": [],
      "source": [
        "#1 María quiere calcular la estatura de su hermano mayor Pedro, sabe que él le lleva 53 cm. Hacer un programa que le pida la estatura a María y resuelva su incógnita.\n",
        "estmaria = float(input(\"Ingresa la altura en cm \"))\n",
        "estpedro = estmaria + 53\n",
        "print(f\"La estatura de Pedro es {estpedro} cm.\")"
      ]
    },
    {
      "cell_type": "code",
      "execution_count": 2,
      "metadata": {},
      "outputs": [
        {
          "name": "stdout",
          "output_type": "stream",
          "text": [
            "Ingrese la cantidad de chocolates que se producirán cada día de la próxima semana\n",
            "Producción total semanal 70 chocolates\n",
            "Promedio diario de producción: 10.00 chocolates\n",
            "Producción baja. José debería analizar formas de aumentar la producción\n"
          ]
        }
      ],
      "source": [
        "#2 José es administrador en una fábrica de chocolates. Hacer un programa que le pida al jefe de producción la cantidad de chocolates que se producirán diariamente la próxima semana y resolver ¿qué debe hacer José?\n",
        "psemanal = []\n",
        "print(\"Ingrese la cantidad de chocolates que se producirán cada día de la próxima semana\")\n",
        "d = [\"Lunes\", \"Martes\", \"Miércoles\", \"Jueves\", \"Viernes\", \"Sábado\", \"Domingo\"]\n",
        "for dia in d:\n",
        "    c = int(input(f\"{dia} \"))\n",
        "    psemanal.append(c)\n",
        "ptotal = sum(psemanal)\n",
        "diario = ptotal / len(psemanal)\n",
        "print(f\"Producción total semanal {ptotal} chocolates\")\n",
        "print(f\"Promedio diario de producción {diario:.2f} chocolates\")\n",
        "if diario > 1000:\n",
        "    print(\"Producción alta. José podría planear aumentar la distribución\")\n",
        "elif diario < 500:\n",
        "    print(\"Producción baja. José debería analizar formas de aumentar la producción\")\n",
        "else:\n",
        "    print(\"Producción dentro de un rango normal. José puede mantener la planificación actual\")"
      ]
    },
    {
      "cell_type": "code",
      "execution_count": null,
      "metadata": {},
      "outputs": [],
      "source": [
        "#3 Dados los catetos de un triángulo rectángulo, calcular su hipotenusa.\n",
        "import math\n",
        "def c(c1, c2):\n",
        "    hipotenusa = math.sqrt(c1**2 + c2**2)\n",
        "    return hipotenusa\n",
        "c1 = float(input(\"Ingrese la longitud del primer cateto\"))\n",
        "c2 = float(input(\"Ingrese la longitud del segundo cateto\"))\n",
        "res = c(c1, c2)\n",
        "print(f\"La hipotenusa del triangulo con catetos {c1} y {c2} es {res}\")"
      ]
    },
    {
      "cell_type": "code",
      "execution_count": null,
      "metadata": {},
      "outputs": [],
      "source": [
        "#4  Escribir un programa que convierta un valor dado en grados Fahrenheit a grados Celsius. (C = (F - 32) * 5/9).\n",
        "def f_c(f):\n",
        "    c = (f - 32) * 5 / 9\n",
        "    return c\n",
        "f = float(input(\"Ingrese la temperatura en grados fahrenheit \"))\n",
        "c = f_c(f)\n",
        "print(f\"La temperatura en grados celsius es {c}\")"
      ]
    },
    {
      "cell_type": "code",
      "execution_count": null,
      "metadata": {},
      "outputs": [
        {
          "name": "stdout",
          "output_type": "stream",
          "text": [
            "El número no es 31.\n"
          ]
        }
      ],
      "source": [
        "#5 El usuario ingresa un número, determine si el número es 31\n",
        "try:\n",
        "    n = int(input(\"Ingresa un numero \"))\n",
        "    if n == 31:\n",
        "        print(\"El numero es 31.\")\n",
        "    else:\n",
        "        print(\"El numero no es 31.\")\n",
        "except ValueError:\n",
        "    print(\"Debes ingresar un caracter valido.\")"
      ]
    },
    {
      "cell_type": "code",
      "execution_count": null,
      "metadata": {},
      "outputs": [],
      "source": [
        "#6 El peso promedio de un adulto debe ser su estatura menos un metro. Pídale al usuario que ingrese su estatura y verifique si está en el peso promedio.\n",
        "try:\n",
        "    est = float(input(\"Ingresa tu estatura en metros \"))\n",
        "    pprom = (est - 1) * 100  \n",
        "    pac = float(input(\"Ingresa tu peso en kilos \"))\n",
        "    if abs(pac - pprom) <= 5:  \n",
        "        print(\"Estas dentro del peso promedio\")\n",
        "    else:\n",
        "        print(\"No estss dentro del peso promedio\")\n",
        "        if pac > pprom:\n",
        "            print(\"Estas por encima del peso promedio\")\n",
        "        else:\n",
        "            print(\"Estas por debajo del peso promedio\")\n",
        "except ValueError:\n",
        "    print(\"Por favor ingresa valores numericos validos \")"
      ]
    },
    {
      "cell_type": "code",
      "execution_count": null,
      "metadata": {},
      "outputs": [],
      "source": [
        "#7 Preguntar dos edades al usuario. Si alguna de las dos edades es menor a 18, mostrar un mensaje de alerta, si no, mostrar “todos son mayores de edad”.\n",
        "try:\n",
        "    e1 = int(input(\"Ingresa la primera edad \"))\n",
        "    e2 = int(input(\"Ingresa la segunda edad \"))\n",
        "    if e1 < 18 or e2 < 18:\n",
        "        print(\"Alerta: Alguna de las edades es menor a 18\")\n",
        "    else:\n",
        "        print(\"Todos son mayores de edad\")\n",
        "except ValueError:\n",
        "    print(\"Ingresa valores numericos validos para las edades\")"
      ]
    },
    {
      "cell_type": "code",
      "execution_count": null,
      "metadata": {},
      "outputs": [],
      "source": [
        "#8 Pedir al usuario un número, mostrar un mensaje indicando si el número ingresado es par o impar.\n",
        "try:\n",
        "    n = int(input(\"Ingresa un numero \"))\n",
        "    if n % 2 == 0:\n",
        "        print(f\"El nnmero {n} es par\")\n",
        "    else:\n",
        "        print(f\"El numero {n} es impar\")\n",
        "except ValueError:\n",
        "    print(\"Ingresa un nnmero valido.\")"
      ]
    },
    {
      "cell_type": "code",
      "execution_count": null,
      "metadata": {},
      "outputs": [],
      "source": [
        "#9 Escriba un programa que pida dos números enteros y que calcule su división, escribiendo si la división es exacta o no.\n",
        "try:\n",
        "    n1 = int(input(\"Ingresa el dividendo \"))\n",
        "    n2 = int(input(\"Ingresa el divisor \"))\n",
        "    if n2 == 0:\n",
        "        print(\"La división entre cero no esta definida\")\n",
        "    else:\n",
        "        c = n1 // n2\n",
        "        r = n1 % n2\n",
        "        if r == 0:\n",
        "            print(f\"La división de {n1} entre {n2} es exacta, el cociente es {c}\")\n",
        "        else:\n",
        "            print(f\"La división de {n1} entre {n2} no es exacta, el cociente es {c}, Resto {r}\")\n",
        "except ValueError:\n",
        "    print(\"Error: Por favor, ingresa valores numéricos enteros.\")"
      ]
    },
    {
      "cell_type": "code",
      "execution_count": null,
      "metadata": {},
      "outputs": [],
      "source": [
        "#10 Escriba un programa que pida dos números enteros y que escriba si el mayor es múltiplo del menor.\n",
        "def mul(ma, m):\n",
        "    return ma % m == 0\n",
        "n1 = int(input(\"Ingrese el primer numero \"))\n",
        "n2 = int(input(\"Ingrese el segundo numero \"))\n",
        "if n1 > n2:\n",
        "    ma, m = n1, n2\n",
        "else:\n",
        "    ma, m = n2, n1\n",
        "if m != 0:\n",
        "    if mul(ma, m):\n",
        "        print(f\"{ma} es multiplo de {m}\")\n",
        "    else:\n",
        "        print(f\"{ma} no es multiplo de {m}\")\n",
        "else:\n",
        "    print(\"No se puede dividir por cero.\")"
      ]
    },
    {
      "cell_type": "code",
      "execution_count": null,
      "metadata": {},
      "outputs": [],
      "source": [
        "#11 Escriba un programa que pida un año y que escriba si es bisiesto o no.\n",
        "def bis(year):\n",
        "    if (year % 4 == 0 and year % 100 != 0) or (year % 400 == 0):\n",
        "        return True\n",
        "    else:\n",
        "        return False\n",
        "year = int(input(\"Ingrese un año \"))\n",
        "if bis(year):\n",
        "    print(f\"El año {year} es bisiesto\")\n",
        "else:\n",
        "    print(f\"El año {year} no es bisiesto\")"
      ]
    },
    {
      "cell_type": "code",
      "execution_count": null,
      "metadata": {},
      "outputs": [],
      "source": [
        "#12 Sumar los 10 primeros enteros pares desde el 2 y guardar el resultado en una variable llamada total\n",
        "total = 0\n",
        "for numero in range(2, 21, 2):  \n",
        "    total += numero\n",
        "print(f\"La suma de los 10 primeros enteros pares desde el 2 es: {total}\")"
      ]
    },
    {
      "cell_type": "code",
      "execution_count": null,
      "metadata": {},
      "outputs": [],
      "source": [
        "#13 A una clase de 10 estudiantes se les aplicó un examen. Calcule y muestre el promedio de la clase.\n",
        "try:\n",
        "    c = []\n",
        "    print(\"Ingrese las calificaciones de los 10 estudiantes:\")\n",
        "    for i in range(1, 11):\n",
        "        cal = float(input(f\"Calificación del estudiante {i}: \"))\n",
        "        if 0 <= cal <= 20:  \n",
        "            c.append(cal)\n",
        "        else:\n",
        "            print(\"La calificación debe estar entre 0 y 100. Intenta de nuevo.\")\n",
        "            break\n",
        "    if len(c) == 10:\n",
        "        promedio = sum(c) / len(c)\n",
        "        print(f\"\\nEl promedio de la clase es: {promedio}\")\n",
        "    else:\n",
        "        print(\"No se ingresaron todas las calificaciones correctamente.\")\n",
        "except ValueError:\n",
        "    print(\"Error: Por favor, ingresa valores numéricos válidos para las calificaciones.\")\n"
      ]
    },
    {
      "cell_type": "code",
      "execution_count": null,
      "metadata": {},
      "outputs": [],
      "source": [
        "#14 Muestra los múltiplos de 3 a partir del 3 hasta el número que el usuario indique.\n",
        "def m3(l):\n",
        "    for i in range(3, l + 1, 3):\n",
        "        print(i)\n",
        "l = int(input(\"Ingrese un número entero positivo como limite \"))\n",
        "if l >= 3:\n",
        "    print(f\"Los múltiplos de 3 desde 3 hasta {l} son\")\n",
        "    m3(l)\n",
        "else:\n",
        "    print(\"El número ingresado debe ser mayor o igual a 3\")"
      ]
    },
    {
      "cell_type": "code",
      "execution_count": 6,
      "metadata": {},
      "outputs": [],
      "source": [
        "#15 Crea una tupla con números y pide un número por teclado, indicando cuántas veces se repite.\n",
        "def count_occurrences():\n",
        "    n = (1, 2, 3, 4, 2, 5, 2, 6, 7, 2)  \n",
        "    num_to_find = int(input(\"Ingresa un número: \"))\n",
        "    count = n.count(num_to_find)\n",
        "    print(f\"El número {num_to_find} aparece {count} veces en la tupla.\")\n",
        "count_occurrences()"
      ]
    }
  ],
  "metadata": {
    "colab": {
      "provenance": []
    },
    "kernelspec": {
      "display_name": "Python 3",
      "name": "python3"
    },
    "language_info": {
      "codemirror_mode": {
        "name": "ipython",
        "version": 3
      },
      "file_extension": ".py",
      "mimetype": "text/x-python",
      "name": "python",
      "nbconvert_exporter": "python",
      "pygments_lexer": "ipython3",
      "version": "3.8.7"
    }
  },
  "nbformat": 4,
  "nbformat_minor": 0
}
