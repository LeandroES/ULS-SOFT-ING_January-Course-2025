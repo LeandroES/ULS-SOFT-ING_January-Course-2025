{
 "cells": [
  {
   "cell_type": "code",
   "metadata": {
    "ExecuteTime": {
     "end_time": "2025-01-13T11:19:41.354192Z",
     "start_time": "2025-01-13T11:19:35.934351Z"
    }
   },
   "source": [
    "#Rodrigo Carpio\n",
    "# #1 María quiere calcular la estatura de su hermano mayor Pedro, sabe que él le lleva 53 cm. Hacer un programa que le pida la estatura a María y resuelva su incógnita.\n",
    "estmaria = float(input(\"Ingresa la altura en cm \"))\n",
    "estpedro = estmaria + 53\n",
    "print(f\"La estatura de Pedro es {estpedro} cm.\")"
   ],
   "id": "c7c36a9d27ec0fad",
   "outputs": [
    {
     "name": "stdout",
     "output_type": "stream",
     "text": [
      "La estatura de Pedro es 238.0 cm.\n"
     ]
    }
   ],
   "execution_count": 3
  },
  {
   "cell_type": "code",
   "metadata": {
    "ExecuteTime": {
     "end_time": "2025-01-13T11:20:09.355663Z",
     "start_time": "2025-01-13T11:19:56.219145Z"
    }
   },
   "source": [
    "#2 José es administrador en una fábrica de chocolates. Hacer un programa que le pida al jefe de producción la cantidad de chocolates que se producirán diariamente la próxima semana y resolver ¿qué debe hacer José?\n",
    "psemanal = []\n",
    "print(\"Ingrese la cantidad de chocolates que se producirán cada día de la próxima semana\")\n",
    "d = [\"Lunes\", \"Martes\", \"Miércoles\", \"Jueves\", \"Viernes\", \"Sábado\", \"Domingo\"]\n",
    "for dia in d:\n",
    "    c = int(input(f\"{dia} \"))\n",
    "    psemanal.append(c)\n",
    "ptotal = sum(psemanal)\n",
    "diario = ptotal / len(psemanal)\n",
    "print(f\"Producción total semanal {ptotal} chocolates\")\n",
    "print(f\"Promedio diario de producción {diario:.2f} chocolates\")\n",
    "if diario > 1000:\n",
    "    print(\"Producción alta. José podría planear aumentar la distribución\")\n",
    "elif diario < 500:\n",
    "    print(\"Producción baja. José debería analizar formas de aumentar la producción\")\n",
    "else:\n",
    "    print(\"Producción dentro de un rango normal. José puede mantener la planificación actual\")"
   ],
   "id": "d7e8f01fd2bc9c32",
   "outputs": [
    {
     "name": "stdout",
     "output_type": "stream",
     "text": [
      "Ingrese la cantidad de chocolates que se producirán cada día de la próxima semana\n",
      "Producción total semanal 191269 chocolates\n",
      "Promedio diario de producción 27324.14 chocolates\n",
      "Producción alta. José podría planear aumentar la distribución\n"
     ]
    }
   ],
   "execution_count": 4
  },
  {
   "cell_type": "code",
   "metadata": {
    "ExecuteTime": {
     "end_time": "2025-01-13T11:20:20.149771Z",
     "start_time": "2025-01-13T11:20:15.538542Z"
    }
   },
   "source": [
    "#3 Dados los catetos de un triángulo rectángulo, calcular su hipotenusa.\n",
    "import math\n",
    "def c(c1, c2):\n",
    "    hipotenusa = math.sqrt(c1**2 + c2**2)\n",
    "    return hipotenusa\n",
    "c1 = float(input(\"Ingrese la longitud del primer cateto\"))\n",
    "c2 = float(input(\"Ingrese la longitud del segundo cateto\"))\n",
    "res = c(c1, c2)\n",
    "print(f\"La hipotenusa del triangulo con catetos {c1} y {c2} es {res}\")"
   ],
   "id": "e293c95beb2a5491",
   "outputs": [
    {
     "name": "stdout",
     "output_type": "stream",
     "text": [
      "La hipotenusa del triangulo con catetos 12.0 y 321.0 es 321.22422075553396\n"
     ]
    }
   ],
   "execution_count": 5
  },
  {
   "cell_type": "code",
   "metadata": {
    "ExecuteTime": {
     "end_time": "2025-01-13T11:20:26.274816Z",
     "start_time": "2025-01-13T11:20:23.990807Z"
    }
   },
   "source": [
    "#4  Escribir un programa que convierta un valor dado en grados Fahrenheit a grados Celsius. (C = (F - 32) * 5/9).\n",
    "def f_c(f):\n",
    "    c = (f - 32) * 5 / 9\n",
    "    return c\n",
    "f = float(input(\"Ingrese la temperatura en grados fahrenheit \"))\n",
    "c = f_c(f)\n",
    "print(f\"La temperatura en grados celsius es {c}\")"
   ],
   "id": "596aecf09829b48d",
   "outputs": [
    {
     "name": "stdout",
     "output_type": "stream",
     "text": [
      "La temperatura en grados celsius es 111.66666666666667\n"
     ]
    }
   ],
   "execution_count": 6
  },
  {
   "cell_type": "code",
   "metadata": {
    "ExecuteTime": {
     "end_time": "2025-01-13T11:20:31.214514Z",
     "start_time": "2025-01-13T11:20:28.562073Z"
    }
   },
   "source": [
    "#5 El usuario ingresa un número, determine si el número es 31\n",
    "try:\n",
    "    n = int(input(\"Ingresa un numero \"))\n",
    "    if n == 31:\n",
    "        print(\"El numero es 31.\")\n",
    "    else:\n",
    "        print(\"El numero no es 31.\")\n",
    "except ValueError:\n",
    "    print(\"Debes ingresar un caracter valido.\")"
   ],
   "id": "22a79647fca2d3dd",
   "outputs": [
    {
     "name": "stdout",
     "output_type": "stream",
     "text": [
      "El numero no es 31.\n"
     ]
    }
   ],
   "execution_count": 7
  },
  {
   "cell_type": "code",
   "metadata": {
    "ExecuteTime": {
     "end_time": "2025-01-13T11:20:41.937489Z",
     "start_time": "2025-01-13T11:20:33.972203Z"
    }
   },
   "source": [
    "#6 El peso promedio de un adulto debe ser su estatura menos un metro. Pídale al usuario que ingrese su estatura y verifique si está en el peso promedio.\n",
    "try:\n",
    "    est = float(input(\"Ingresa tu estatura en metros \"))\n",
    "    pprom = (est - 1) * 100  \n",
    "    pac = float(input(\"Ingresa tu peso en kilos \"))\n",
    "    if abs(pac - pprom) <= 5:  \n",
    "        print(\"Estas dentro del peso promedio\")\n",
    "    else:\n",
    "        print(\"No estss dentro del peso promedio\")\n",
    "        if pac > pprom:\n",
    "            print(\"Estas por encima del peso promedio\")\n",
    "        else:\n",
    "            print(\"Estas por debajo del peso promedio\")\n",
    "except ValueError:\n",
    "    print(\"Por favor ingresa valores numericos validos \")"
   ],
   "id": "893b37ec85c7a881",
   "outputs": [
    {
     "name": "stdout",
     "output_type": "stream",
     "text": [
      "No estss dentro del peso promedio\n",
      "Estas por debajo del peso promedio\n"
     ]
    }
   ],
   "execution_count": 8
  },
  {
   "cell_type": "code",
   "metadata": {
    "ExecuteTime": {
     "end_time": "2025-01-13T11:21:07.295652Z",
     "start_time": "2025-01-13T11:21:03.951750Z"
    }
   },
   "source": [
    "#7 Preguntar dos edades al usuario. Si alguna de las dos edades es menor a 18, mostrar un mensaje de alerta, si no, mostrar “todos son mayores de edad”.\n",
    "try:\n",
    "    e1 = int(input(\"Ingresa la primera edad \"))\n",
    "    e2 = int(input(\"Ingresa la segunda edad \"))\n",
    "    if e1 < 18 or e2 < 18:\n",
    "        print(\"Alerta: Alguna de las edades es menor a 18\")\n",
    "    else:\n",
    "        print(\"Todos son mayores de edad\")\n",
    "except ValueError:\n",
    "    print(\"Ingresa valores numericos validos para las edades\")"
   ],
   "id": "77a77cd88129ec8e",
   "outputs": [
    {
     "name": "stdout",
     "output_type": "stream",
     "text": [
      "Todos son mayores de edad\n"
     ]
    }
   ],
   "execution_count": 9
  },
  {
   "cell_type": "code",
   "metadata": {
    "ExecuteTime": {
     "end_time": "2025-01-13T11:21:11.705338Z",
     "start_time": "2025-01-13T11:21:09.711900Z"
    }
   },
   "source": [
    "#8 Pedir al usuario un número, mostrar un mensaje indicando si el número ingresado es par o impar.\n",
    "try:\n",
    "    n = int(input(\"Ingresa un numero \"))\n",
    "    if n % 2 == 0:\n",
    "        print(f\"El nnmero {n} es par\")\n",
    "    else:\n",
    "        print(f\"El numero {n} es impar\")\n",
    "except ValueError:\n",
    "    print(\"Ingresa un nnmero valido.\")"
   ],
   "id": "c894411cca6f14ef",
   "outputs": [
    {
     "name": "stdout",
     "output_type": "stream",
     "text": [
      "El numero 123 es impar\n"
     ]
    }
   ],
   "execution_count": 10
  },
  {
   "cell_type": "code",
   "metadata": {
    "ExecuteTime": {
     "end_time": "2025-01-13T11:21:17.803044Z",
     "start_time": "2025-01-13T11:21:13.888923Z"
    }
   },
   "source": [
    "#9 Escriba un programa que pida dos números enteros y que calcule su división, escribiendo si la división es exacta o no.\n",
    "try:\n",
    "    n1 = int(input(\"Ingresa el dividendo \"))\n",
    "    n2 = int(input(\"Ingresa el divisor \"))\n",
    "    if n2 == 0:\n",
    "        print(\"La división entre cero no esta definida\")\n",
    "    else:\n",
    "        c = n1 // n2\n",
    "        r = n1 % n2\n",
    "        if r == 0:\n",
    "            print(f\"La división de {n1} entre {n2} es exacta, el cociente es {c}\")\n",
    "        else:\n",
    "            print(f\"La división de {n1} entre {n2} no es exacta, el cociente es {c}, Resto {r}\")\n",
    "except ValueError:\n",
    "    print(\"Error: Por favor, ingresa valores numéricos enteros.\")"
   ],
   "id": "6964beac1d3b010e",
   "outputs": [
    {
     "name": "stdout",
     "output_type": "stream",
     "text": [
      "La división de 345 entre 2 no es exacta, el cociente es 172, Resto 1\n"
     ]
    }
   ],
   "execution_count": 11
  },
  {
   "cell_type": "code",
   "metadata": {
    "ExecuteTime": {
     "end_time": "2025-01-13T11:21:24.028253Z",
     "start_time": "2025-01-13T11:21:20.999144Z"
    }
   },
   "source": [
    "#10 Escriba un programa que pida dos números enteros y que escriba si el mayor es múltiplo del menor.\n",
    "def mul(ma, m):\n",
    "    return ma % m == 0\n",
    "n1 = int(input(\"Ingrese el primer numero \"))\n",
    "n2 = int(input(\"Ingrese el segundo numero \"))\n",
    "if n1 > n2:\n",
    "    ma, m = n1, n2\n",
    "else:\n",
    "    ma, m = n2, n1\n",
    "if m != 0:\n",
    "    if mul(ma, m):\n",
    "        print(f\"{ma} es multiplo de {m}\")\n",
    "    else:\n",
    "        print(f\"{ma} no es multiplo de {m}\")\n",
    "else:\n",
    "    print(\"No se puede dividir por cero.\")"
   ],
   "id": "5060f083f1e9f6a9",
   "outputs": [
    {
     "name": "stdout",
     "output_type": "stream",
     "text": [
      "85687 no es multiplo de 123\n"
     ]
    }
   ],
   "execution_count": 12
  },
  {
   "cell_type": "code",
   "metadata": {
    "ExecuteTime": {
     "end_time": "2025-01-13T11:21:29.809465Z",
     "start_time": "2025-01-13T11:21:26.111101Z"
    }
   },
   "source": [
    "#11 Escriba un programa que pida un año y que escriba si es bisiesto o no.\n",
    "def bis(year):\n",
    "    if (year % 4 == 0 and year % 100 != 0) or (year % 400 == 0):\n",
    "        return True\n",
    "    else:\n",
    "        return False\n",
    "year = int(input(\"Ingrese un año \"))\n",
    "if bis(year):\n",
    "    print(f\"El año {year} es bisiesto\")\n",
    "else:\n",
    "    print(f\"El año {year} no es bisiesto\")"
   ],
   "id": "2fec73b5de722a17",
   "outputs": [
    {
     "name": "stdout",
     "output_type": "stream",
     "text": [
      "El año 22233 no es bisiesto\n"
     ]
    }
   ],
   "execution_count": 13
  },
  {
   "cell_type": "code",
   "metadata": {
    "ExecuteTime": {
     "end_time": "2025-01-13T11:21:32.040587Z",
     "start_time": "2025-01-13T11:21:32.034279Z"
    }
   },
   "source": [
    "#12 Sumar los 10 primeros enteros pares desde el 2 y guardar el resultado en una variable llamada total\n",
    "total = 0\n",
    "for numero in range(2, 21, 2):  \n",
    "    total += numero\n",
    "print(f\"La suma de los 10 primeros enteros pares desde el 2 es: {total}\")"
   ],
   "id": "a04962497ba7d184",
   "outputs": [
    {
     "name": "stdout",
     "output_type": "stream",
     "text": [
      "La suma de los 10 primeros enteros pares desde el 2 es: 110\n"
     ]
    }
   ],
   "execution_count": 14
  },
  {
   "cell_type": "code",
   "metadata": {
    "ExecuteTime": {
     "end_time": "2025-01-13T11:21:53.924196Z",
     "start_time": "2025-01-13T11:21:36.662153Z"
    }
   },
   "source": [
    "#13 A una clase de 10 estudiantes se les aplicó un examen. Calcule y muestre el promedio de la clase.\n",
    "try:\n",
    "    c = []\n",
    "    print(\"Ingrese las calificaciones de los 10 estudiantes:\")\n",
    "    for i in range(1, 11):\n",
    "        cal = float(input(f\"Calificación del estudiante {i}: \"))\n",
    "        if 0 <= cal <= 20:  \n",
    "            c.append(cal)\n",
    "        else:\n",
    "            print(\"La calificación debe estar entre 0 y 100. Intenta de nuevo.\")\n",
    "            break\n",
    "    if len(c) == 10:\n",
    "        promedio = sum(c) / len(c)\n",
    "        print(f\"\\nEl promedio de la clase es: {promedio}\")\n",
    "    else:\n",
    "        print(\"No se ingresaron todas las calificaciones correctamente.\")\n",
    "except ValueError:\n",
    "    print(\"Error: Por favor, ingresa valores numéricos válidos para las calificaciones.\")\n"
   ],
   "id": "389b038bf8537b20",
   "outputs": [
    {
     "name": "stdout",
     "output_type": "stream",
     "text": [
      "Ingrese las calificaciones de los 10 estudiantes:\n",
      "Error: Por favor, ingresa valores numéricos válidos para las calificaciones.\n"
     ]
    }
   ],
   "execution_count": 15
  },
  {
   "cell_type": "code",
   "metadata": {
    "ExecuteTime": {
     "end_time": "2025-01-13T11:22:01.748923Z",
     "start_time": "2025-01-13T11:21:59.573275Z"
    }
   },
   "source": [
    "#14 Muestra los múltiplos de 3 a partir del 3 hasta el número que el usuario indique.\n",
    "def m3(l):\n",
    "    for i in range(3, l + 1, 3):\n",
    "        print(i)\n",
    "l = int(input(\"Ingrese un número entero positivo como limite \"))\n",
    "if l >= 3:\n",
    "    print(f\"Los múltiplos de 3 desde 3 hasta {l} son\")\n",
    "    m3(l)\n",
    "else:\n",
    "    print(\"El número ingresado debe ser mayor o igual a 3\")"
   ],
   "id": "55afbeb01e977e51",
   "outputs": [
    {
     "name": "stdout",
     "output_type": "stream",
     "text": [
      "Los múltiplos de 3 desde 3 hasta 4 son\n",
      "3\n"
     ]
    }
   ],
   "execution_count": 16
  },
  {
   "cell_type": "code",
   "metadata": {
    "ExecuteTime": {
     "end_time": "2025-01-13T11:22:09.727860Z",
     "start_time": "2025-01-13T11:22:07.721298Z"
    }
   },
   "source": [
    "#15 Crea una tupla con números y pide un número por teclado, indicando cuántas veces se repite.\n",
    "def count_occurrences():\n",
    "    n = (1, 2, 3, 4, 2, 5, 2, 6, 7, 2)  \n",
    "    num_to_find = int(input(\"Ingresa un número: \"))\n",
    "    count = n.count(num_to_find)\n",
    "    print(f\"El número {num_to_find} aparece {count} veces en la tupla.\")\n",
    "count_occurrences()"
   ],
   "id": "8c9cff6b1d12d3bf",
   "outputs": [
    {
     "name": "stdout",
     "output_type": "stream",
     "text": [
      "El número 234 aparece 0 veces en la tupla.\n"
     ]
    }
   ],
   "execution_count": 18
  },
  {
   "metadata": {
    "ExecuteTime": {
     "end_time": "2025-01-13T11:22:43.791932Z",
     "start_time": "2025-01-13T11:22:28.081653Z"
    }
   },
   "cell_type": "code",
   "source": [
    "#Leandro Estrada :::::::::\n",
    "# Ejercicio #16\n",
    "# Pedir al usuario una frase y contar cuántas letras 'a' tiene\n",
    "def contar_letras_a():\n",
    "    frase = input(\"Ingresa una frase: \")\n",
    "    cantidad_a = frase.lower().count('a')\n",
    "    print(f\"La frase tiene {cantidad_a} letras 'a'.\")\n",
    "contar_letras_a()"
   ],
   "id": "4c9a30a4d4518e3e",
   "outputs": [
    {
     "name": "stdout",
     "output_type": "stream",
     "text": [
      "La frase tiene 2 letras 'a'.\n"
     ]
    }
   ],
   "execution_count": 20
  },
  {
   "metadata": {
    "ExecuteTime": {
     "end_time": "2025-01-13T11:23:13.673924Z",
     "start_time": "2025-01-13T11:23:07.350339Z"
    }
   },
   "cell_type": "code",
   "source": [
    "# Ejercicio #17\n",
    "# Pedir dos números enteros y seguir pidiendo mientras el segundo no sea mayor que el primero\n",
    "def pedir_numeros():\n",
    "    while True:\n",
    "        num1 = int(input(\"Ingresa el primer número: \"))\n",
    "        num2 = int(input(\"Ingresa el segundo número: \"))\n",
    "        if num2 > num1:\n",
    "            print(\"El segundo número es mayor que el primero. Fin.\")\n",
    "            break\n",
    "pedir_numeros()"
   ],
   "id": "d3c5e7377d7bbb4e",
   "outputs": [
    {
     "name": "stdout",
     "output_type": "stream",
     "text": [
      "El segundo número es mayor que el primero. Fin.\n"
     ]
    }
   ],
   "execution_count": 21
  },
  {
   "metadata": {
    "ExecuteTime": {
     "end_time": "2025-01-13T11:23:26.638226Z",
     "start_time": "2025-01-13T11:23:26.632066Z"
    }
   },
   "cell_type": "code",
   "source": [
    "# Ejercicio #18\n",
    "# Pedir números enteros mientras sean cada vez más grandes\n",
    "def pedir_numeros_crecientes():\n",
    "    anterior = int(input(\"Ingresa un número entero: \"))\n",
    "    while True:\n",
    "        actual = int(input(\"Ingresa otro número entero: \"))\n",
    "        if actual <= anterior:\n",
    "            print(\"El número ingresado no es mayor al anterior. Fin.\")\n",
    "            break\n",
    "        anterior = actual\n",
    "pedir_numeros_crecientes()"
   ],
   "id": "e59838bb042d3d2",
   "outputs": [],
   "execution_count": 22
  },
  {
   "metadata": {
    "ExecuteTime": {
     "end_time": "2025-01-13T11:23:59.170488Z",
     "start_time": "2025-01-13T11:23:49.740064Z"
    }
   },
   "cell_type": "code",
   "source": [
    "# Ejercicio #19\n",
    "# Pedir las notas de un grupo, mostrar listas de aprobadas y desaprobadas\n",
    "def notas_grupo():\n",
    "    notas = []\n",
    "    while True:\n",
    "        nota = input(\"Ingresa una nota (o 'fin' para terminar): \")\n",
    "        if nota.lower() == 'fin':\n",
    "            break\n",
    "        notas.append(float(nota))\n",
    "    aprobadas = [n for n in notas if n >= 11]\n",
    "    desaprobadas = [n for n in notas if n < 11]\n",
    "    print(f\"Notas aprobadas: {aprobadas}\")\n",
    "    print(f\"Notas desaprobadas: {desaprobadas}\")\n",
    "notas_grupo()"
   ],
   "id": "96069b87b7181d8e",
   "outputs": [
    {
     "name": "stdout",
     "output_type": "stream",
     "text": [
      "Notas aprobadas: []\n",
      "Notas desaprobadas: [4.0]\n"
     ]
    }
   ],
   "execution_count": 23
  },
  {
   "metadata": {
    "ExecuteTime": {
     "end_time": "2025-01-13T11:26:36.848658Z",
     "start_time": "2025-01-13T11:26:16.116836Z"
    }
   },
   "cell_type": "code",
   "source": [
    "# Ejercicio #20\n",
    "# Pedir nombre de 5 asignaturas y sus notas respectivas\n",
    "def asignaturas_notas():\n",
    "    asignaturas = {}\n",
    "    for _ in range(5):\n",
    "        nombre = input(\"Ingresa el nombre de la asignatura: \")\n",
    "        nota = float(input(f\"Ingresa la nota de {nombre}: \"))\n",
    "        asignaturas[nombre] = nota\n",
    "    for asignatura, nota in asignaturas.items():\n",
    "        print(f\"En la asignatura {asignatura} sacó {nota}.\")\n",
    "asignaturas_notas()"
   ],
   "id": "4f2522c86aab1e58",
   "outputs": [
    {
     "name": "stdout",
     "output_type": "stream",
     "text": [
      "En la asignatura a1 sacó 12.0.\n",
      "En la asignatura a2 sacó 13.0.\n",
      "En la asignatura a3 sacó 14.0.\n",
      "En la asignatura 4 sacó 15.0.\n",
      "En la asignatura a5 sacó 17.0.\n"
     ]
    }
   ],
   "execution_count": 25
  },
  {
   "metadata": {
    "ExecuteTime": {
     "end_time": "2025-01-13T11:26:56.751501Z",
     "start_time": "2025-01-13T11:26:39.563369Z"
    }
   },
   "cell_type": "code",
   "source": [
    "# Ejercicio #21\n",
    "# Preguntar números ganadores de lotería y la boliyapa\n",
    "def numeros_loteria():\n",
    "    numeros = []\n",
    "    for _ in range(5):\n",
    "        numero = int(input(\"Ingresa un número ganador: \"))\n",
    "        numeros.append(numero)\n",
    "    numeros.sort()\n",
    "    print(f\"Números ganadores ordenados: {numeros}\")\n",
    "    boliyapa = int(input(\"Ingresa la boliyapa: \"))\n",
    "    numeros.append(boliyapa)\n",
    "    print(f\"Lista final: {numeros}\")\n",
    "numeros_loteria()"
   ],
   "id": "77b22cad014d95ad",
   "outputs": [
    {
     "name": "stdout",
     "output_type": "stream",
     "text": [
      "Números ganadores ordenados: [123123, 234234, 345345, 23423424, 23432423]\n",
      "Lista final: [123123, 234234, 345345, 23423424, 23432423, 234234]\n"
     ]
    }
   ],
   "execution_count": 26
  },
  {
   "metadata": {
    "ExecuteTime": {
     "end_time": "2025-01-13T11:27:00.471056Z",
     "start_time": "2025-01-13T11:27:00.464720Z"
    }
   },
   "cell_type": "code",
   "source": [
    "# Ejercicio #22\n",
    "# Almacenar el abecedario en una lista y eliminar posiciones múltiplos de 3\n",
    "def abecedario_lista():\n",
    "    import string\n",
    "    abecedario = list(string.ascii_lowercase)\n",
    "    resultado = [letra for i, letra in enumerate(abecedario) if (i + 1) % 3 != 0]\n",
    "    print(f\"Lista resultante: {resultado}\")\n",
    "abecedario_lista()"
   ],
   "id": "d4c0e975ec48dc9e",
   "outputs": [
    {
     "name": "stdout",
     "output_type": "stream",
     "text": [
      "Lista resultante: ['a', 'b', 'd', 'e', 'g', 'h', 'j', 'k', 'm', 'n', 'p', 'q', 's', 't', 'v', 'w', 'y', 'z']\n"
     ]
    }
   ],
   "execution_count": 27
  },
  {
   "metadata": {
    "ExecuteTime": {
     "end_time": "2025-01-13T11:27:45.940180Z",
     "start_time": "2025-01-13T11:27:02.755032Z"
    }
   },
   "cell_type": "code",
   "source": [
    "# Ejercicio #23\n",
    "# Crear una tupla con los meses del año, pedir posiciones e imprimir el contenido o error\n",
    "def meses_anio():\n",
    "    meses = (\"Enero\", \"Febrero\", \"Marzo\", \"Abril\", \"Mayo\", \"Junio\", \"Julio\", \"Agosto\", \"Septiembre\", \"Octubre\", \"Noviembre\", \"Diciembre\")\n",
    "    while True:\n",
    "        posicion = int(input(\"Ingresa un número de mes (1-12): \")) - 1\n",
    "        if 0 <= posicion < len(meses):\n",
    "            print(f\"El mes es {meses[posicion]}.\")\n",
    "        else:\n",
    "            print(\"Posición inválida.\")\n",
    "meses_anio()"
   ],
   "id": "b0a44a46bb7c93cc",
   "outputs": [
    {
     "name": "stdout",
     "output_type": "stream",
     "text": [
      "El mes es Agosto.\n",
      "El mes es Abril.\n",
      "El mes es Febrero.\n",
      "El mes es Junio.\n",
      "El mes es Abril.\n",
      "El mes es Mayo.\n",
      "Posición inválida.\n",
      "Posición inválida.\n",
      "El mes es Enero.\n",
      "El mes es Octubre.\n"
     ]
    },
    {
     "ename": "KeyboardInterrupt",
     "evalue": "Interrupted by user",
     "output_type": "error",
     "traceback": [
      "\u001B[1;31m---------------------------------------------------------------------------\u001B[0m",
      "\u001B[1;31mKeyboardInterrupt\u001B[0m                         Traceback (most recent call last)",
      "Cell \u001B[1;32mIn[28], line 11\u001B[0m\n\u001B[0;32m      9\u001B[0m         \u001B[38;5;28;01melse\u001B[39;00m:\n\u001B[0;32m     10\u001B[0m             \u001B[38;5;28mprint\u001B[39m(\u001B[38;5;124m\"\u001B[39m\u001B[38;5;124mPosición inválida.\u001B[39m\u001B[38;5;124m\"\u001B[39m)\n\u001B[1;32m---> 11\u001B[0m meses_anio()\n",
      "Cell \u001B[1;32mIn[28], line 6\u001B[0m, in \u001B[0;36mmeses_anio\u001B[1;34m()\u001B[0m\n\u001B[0;32m      4\u001B[0m meses \u001B[38;5;241m=\u001B[39m (\u001B[38;5;124m\"\u001B[39m\u001B[38;5;124mEnero\u001B[39m\u001B[38;5;124m\"\u001B[39m, \u001B[38;5;124m\"\u001B[39m\u001B[38;5;124mFebrero\u001B[39m\u001B[38;5;124m\"\u001B[39m, \u001B[38;5;124m\"\u001B[39m\u001B[38;5;124mMarzo\u001B[39m\u001B[38;5;124m\"\u001B[39m, \u001B[38;5;124m\"\u001B[39m\u001B[38;5;124mAbril\u001B[39m\u001B[38;5;124m\"\u001B[39m, \u001B[38;5;124m\"\u001B[39m\u001B[38;5;124mMayo\u001B[39m\u001B[38;5;124m\"\u001B[39m, \u001B[38;5;124m\"\u001B[39m\u001B[38;5;124mJunio\u001B[39m\u001B[38;5;124m\"\u001B[39m, \u001B[38;5;124m\"\u001B[39m\u001B[38;5;124mJulio\u001B[39m\u001B[38;5;124m\"\u001B[39m, \u001B[38;5;124m\"\u001B[39m\u001B[38;5;124mAgosto\u001B[39m\u001B[38;5;124m\"\u001B[39m, \u001B[38;5;124m\"\u001B[39m\u001B[38;5;124mSeptiembre\u001B[39m\u001B[38;5;124m\"\u001B[39m, \u001B[38;5;124m\"\u001B[39m\u001B[38;5;124mOctubre\u001B[39m\u001B[38;5;124m\"\u001B[39m, \u001B[38;5;124m\"\u001B[39m\u001B[38;5;124mNoviembre\u001B[39m\u001B[38;5;124m\"\u001B[39m, \u001B[38;5;124m\"\u001B[39m\u001B[38;5;124mDiciembre\u001B[39m\u001B[38;5;124m\"\u001B[39m)\n\u001B[0;32m      5\u001B[0m \u001B[38;5;28;01mwhile\u001B[39;00m \u001B[38;5;28;01mTrue\u001B[39;00m:\n\u001B[1;32m----> 6\u001B[0m     posicion \u001B[38;5;241m=\u001B[39m \u001B[38;5;28mint\u001B[39m(\u001B[38;5;28minput\u001B[39m(\u001B[38;5;124m\"\u001B[39m\u001B[38;5;124mIngresa un número de mes (1-12): \u001B[39m\u001B[38;5;124m\"\u001B[39m)) \u001B[38;5;241m-\u001B[39m \u001B[38;5;241m1\u001B[39m\n\u001B[0;32m      7\u001B[0m     \u001B[38;5;28;01mif\u001B[39;00m \u001B[38;5;241m0\u001B[39m \u001B[38;5;241m<\u001B[39m\u001B[38;5;241m=\u001B[39m posicion \u001B[38;5;241m<\u001B[39m \u001B[38;5;28mlen\u001B[39m(meses):\n\u001B[0;32m      8\u001B[0m         \u001B[38;5;28mprint\u001B[39m(\u001B[38;5;124mf\u001B[39m\u001B[38;5;124m\"\u001B[39m\u001B[38;5;124mEl mes es \u001B[39m\u001B[38;5;132;01m{\u001B[39;00mmeses[posicion]\u001B[38;5;132;01m}\u001B[39;00m\u001B[38;5;124m.\u001B[39m\u001B[38;5;124m\"\u001B[39m)\n",
      "File \u001B[1;32m~\\anaconda3\\Lib\\site-packages\\ipykernel\\kernelbase.py:1262\u001B[0m, in \u001B[0;36mKernel.raw_input\u001B[1;34m(self, prompt)\u001B[0m\n\u001B[0;32m   1260\u001B[0m     msg \u001B[38;5;241m=\u001B[39m \u001B[38;5;124m\"\u001B[39m\u001B[38;5;124mraw_input was called, but this frontend does not support input requests.\u001B[39m\u001B[38;5;124m\"\u001B[39m\n\u001B[0;32m   1261\u001B[0m     \u001B[38;5;28;01mraise\u001B[39;00m StdinNotImplementedError(msg)\n\u001B[1;32m-> 1262\u001B[0m \u001B[38;5;28;01mreturn\u001B[39;00m \u001B[38;5;28mself\u001B[39m\u001B[38;5;241m.\u001B[39m_input_request(\n\u001B[0;32m   1263\u001B[0m     \u001B[38;5;28mstr\u001B[39m(prompt),\n\u001B[0;32m   1264\u001B[0m     \u001B[38;5;28mself\u001B[39m\u001B[38;5;241m.\u001B[39m_parent_ident[\u001B[38;5;124m\"\u001B[39m\u001B[38;5;124mshell\u001B[39m\u001B[38;5;124m\"\u001B[39m],\n\u001B[0;32m   1265\u001B[0m     \u001B[38;5;28mself\u001B[39m\u001B[38;5;241m.\u001B[39mget_parent(\u001B[38;5;124m\"\u001B[39m\u001B[38;5;124mshell\u001B[39m\u001B[38;5;124m\"\u001B[39m),\n\u001B[0;32m   1266\u001B[0m     password\u001B[38;5;241m=\u001B[39m\u001B[38;5;28;01mFalse\u001B[39;00m,\n\u001B[0;32m   1267\u001B[0m )\n",
      "File \u001B[1;32m~\\anaconda3\\Lib\\site-packages\\ipykernel\\kernelbase.py:1305\u001B[0m, in \u001B[0;36mKernel._input_request\u001B[1;34m(self, prompt, ident, parent, password)\u001B[0m\n\u001B[0;32m   1302\u001B[0m \u001B[38;5;28;01mexcept\u001B[39;00m \u001B[38;5;167;01mKeyboardInterrupt\u001B[39;00m:\n\u001B[0;32m   1303\u001B[0m     \u001B[38;5;66;03m# re-raise KeyboardInterrupt, to truncate traceback\u001B[39;00m\n\u001B[0;32m   1304\u001B[0m     msg \u001B[38;5;241m=\u001B[39m \u001B[38;5;124m\"\u001B[39m\u001B[38;5;124mInterrupted by user\u001B[39m\u001B[38;5;124m\"\u001B[39m\n\u001B[1;32m-> 1305\u001B[0m     \u001B[38;5;28;01mraise\u001B[39;00m \u001B[38;5;167;01mKeyboardInterrupt\u001B[39;00m(msg) \u001B[38;5;28;01mfrom\u001B[39;00m \u001B[38;5;28;01mNone\u001B[39;00m\n\u001B[0;32m   1306\u001B[0m \u001B[38;5;28;01mexcept\u001B[39;00m \u001B[38;5;167;01mException\u001B[39;00m:\n\u001B[0;32m   1307\u001B[0m     \u001B[38;5;28mself\u001B[39m\u001B[38;5;241m.\u001B[39mlog\u001B[38;5;241m.\u001B[39mwarning(\u001B[38;5;124m\"\u001B[39m\u001B[38;5;124mInvalid Message:\u001B[39m\u001B[38;5;124m\"\u001B[39m, exc_info\u001B[38;5;241m=\u001B[39m\u001B[38;5;28;01mTrue\u001B[39;00m)\n",
      "\u001B[1;31mKeyboardInterrupt\u001B[0m: Interrupted by user"
     ]
    }
   ],
   "execution_count": 28
  },
  {
   "metadata": {
    "ExecuteTime": {
     "end_time": "2025-01-13T11:27:49.506508Z",
     "start_time": "2025-01-13T11:27:49.500085Z"
    }
   },
   "cell_type": "code",
   "source": [
    "# Ejercicio #24\n",
    "# Crear una tupla con números e indicar el mayor y el menor\n",
    "def tupla_numeros():\n",
    "    numeros = (3, 7, 2, 9, 5, 1, 8, 6, 4, 10)\n",
    "    print(f\"Mayor: {max(numeros)}, Menor: {min(numeros)}\")\n",
    "tupla_numeros()"
   ],
   "id": "7c58aa2c0a6f3502",
   "outputs": [
    {
     "name": "stdout",
     "output_type": "stream",
     "text": [
      "Mayor: 10, Menor: 1\n"
     ]
    }
   ],
   "execution_count": 29
  },
  {
   "metadata": {
    "ExecuteTime": {
     "end_time": "2025-01-13T11:27:56.727142Z",
     "start_time": "2025-01-13T11:27:54.501634Z"
    }
   },
   "cell_type": "code",
   "source": [
    "# Ejercicio #25\n",
    "# Crear una tupla con valores del 1 al 10 y mostrar valores según índice ingresado\n",
    "def tupla_indices():\n",
    "    tupla = tuple(range(1, 11))\n",
    "    indice = int(input(\"Ingresa un índice (0-9): \"))\n",
    "    if 0 <= indice < len(tupla):\n",
    "        print(f\"Valor en el índice {indice}: {tupla[indice]}\")\n",
    "    else:\n",
    "        print(\"Índice inválido.\")\n",
    "tupla_indices()"
   ],
   "id": "26b58f0424113e60",
   "outputs": [
    {
     "name": "stdout",
     "output_type": "stream",
     "text": [
      "Valor en el índice 8: 9\n"
     ]
    }
   ],
   "execution_count": 30
  },
  {
   "metadata": {
    "ExecuteTime": {
     "end_time": "2025-01-13T11:27:58.707754Z",
     "start_time": "2025-01-13T11:27:58.701645Z"
    }
   },
   "cell_type": "code",
   "source": [
    "# Ejercicio #26\n",
    "# Operaciones con lista de letras llamada letters\n",
    "def operaciones_lista_letters():\n",
    "    letters = ['A', 'B', 'C', 'D', 'E', 'F']\n",
    "    letters.append('G')\n",
    "    letters[0] = 'Z'\n",
    "    letters.remove('C')\n",
    "    print(f\"Lista resultante al revés: {letters[::-1]}\")\n",
    "operaciones_lista_letters()"
   ],
   "id": "dea700692e3db78d",
   "outputs": [
    {
     "name": "stdout",
     "output_type": "stream",
     "text": [
      "Lista resultante al revés: ['G', 'F', 'E', 'D', 'B', 'Z']\n"
     ]
    }
   ],
   "execution_count": 31
  },
  {
   "metadata": {
    "ExecuteTime": {
     "end_time": "2025-01-13T11:28:00.785791Z",
     "start_time": "2025-01-13T11:28:00.778738Z"
    }
   },
   "cell_type": "code",
   "source": [
    "# Ejercicio #27\n",
    "# Cargar votos de tres candidatos y calcular total\n",
    "def votos_candidatos():\n",
    "    candidatos = {\n",
    "        \"Candidato1\": {\"Provincia1\": 1200, \"Provincia2\": 800, \"Provincia3\": 1000},\n",
    "        \"Candidato2\": {\"Provincia1\": 1100, \"Provincia2\": 900, \"Provincia3\": 950},\n",
    "        \"Candidato3\": {\"Provincia1\": 1300, \"Provincia2\": 850, \"Provincia3\": 980}\n",
    "    }\n",
    "    for candidato, votos in candidatos.items():\n",
    "        total_votos = sum(votos.values())\n",
    "        print(f\"{candidato}: {total_votos} votos\")\n",
    "votos_candidatos()"
   ],
   "id": "976a8a78147534b7",
   "outputs": [
    {
     "name": "stdout",
     "output_type": "stream",
     "text": [
      "Candidato1: 3000 votos\n",
      "Candidato2: 2950 votos\n",
      "Candidato3: 3130 votos\n"
     ]
    }
   ],
   "execution_count": 32
  },
  {
   "metadata": {},
   "cell_type": "code",
   "outputs": [],
   "execution_count": null,
   "source": "",
   "id": "1550c798d0e2df3b"
  }
 ],
 "metadata": {
  "kernelspec": {
   "display_name": "Python 3",
   "language": "python",
   "name": "python3"
  },
  "language_info": {
   "codemirror_mode": {
    "name": "ipython",
    "version": 2
   },
   "file_extension": ".py",
   "mimetype": "text/x-python",
   "name": "python",
   "nbconvert_exporter": "python",
   "pygments_lexer": "ipython2",
   "version": "2.7.6"
  }
 },
 "nbformat": 4,
 "nbformat_minor": 5
}
