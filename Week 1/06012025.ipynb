{
 "cells": [
  {
   "cell_type": "code",
   "id": "initial_id",
   "metadata": {
    "collapsed": true,
    "ExecuteTime": {
     "end_time": "2025-01-06T15:49:25.605779Z",
     "start_time": "2025-01-06T15:49:20.370635Z"
    }
   },
   "source": [
    "#Ejercicio 1\n",
    "n = float(input(\"Ingrese un numero: \"))\n",
    "if n == 31:\n",
    "    print(\"That's right!\")\n",
    "else:\n",
    "    print(\"That's wrong!\")"
   ],
   "outputs": [
    {
     "name": "stdout",
     "output_type": "stream",
     "text": [
      "That's right!\n"
     ]
    }
   ],
   "execution_count": 1
  },
  {
   "metadata": {
    "ExecuteTime": {
     "end_time": "2025-01-06T16:02:10.855445Z",
     "start_time": "2025-01-06T16:01:54.914077Z"
    }
   },
   "cell_type": "code",
   "source": [
    "#Ejercicio 2\n",
    "h = float(input(\"Ingrese su estatura: \"))\n",
    "w = float(input(\"Ingrese su peso: \"))\n",
    "peso_promedio = (h - 1) * 100\n",
    "rango_min = peso_promedio - 5\n",
    "rango_max = peso_promedio + 5\n",
    "\n",
    "if rango_min <= w <= rango_max:\n",
    "    print(\"Estás dentro del rango de peso promedio.\")\n",
    "else:\n",
    "    print(\"No estás dentro del rango de peso promedio.\")"
   ],
   "id": "1bea25ebb3512b44",
   "outputs": [
    {
     "name": "stdout",
     "output_type": "stream",
     "text": [
      "No estás dentro del rango de peso promedio.\n"
     ]
    }
   ],
   "execution_count": 2
  },
  {
   "metadata": {},
   "cell_type": "code",
   "outputs": [],
   "execution_count": null,
   "source": [
    "#Ejercicio 3\n",
    "e1 = str(input(\"Ingrese la 1ra edad: \"))\n",
    "e2 = str(input(\"Ingrese la 2ra edad: \"))\n",
    "if e1 < 18 or e2 < 18:\n",
    "    print(\"Hay un menor de edad\")\n",
    "else:\n",
    "    print(\"Todos son mayores de edad\")"
   ],
   "id": "d61f230a0b9e97e1"
  },
  {
   "metadata": {},
   "cell_type": "code",
   "outputs": [],
   "execution_count": null,
   "source": [
    "#Ejercicio 4\n",
    "n1 = int(input(\"Ingrese un numero entero: \"))\n",
    "if n1 % 2 == 0:\n",
    "    print(\"El numero es par\")\n",
    "else:\n",
    "    print(\"El numero es impar\")"
   ],
   "id": "2dc32fd0093a212f"
  },
  {
   "metadata": {
    "ExecuteTime": {
     "end_time": "2025-01-06T16:13:40.378819Z",
     "start_time": "2025-01-06T16:13:40.372266Z"
    }
   },
   "cell_type": "code",
   "source": [
    "n = 3\n",
    "while(n <=100):\n",
    "    print(n)\n",
    "    n = n * 3"
   ],
   "id": "ca60f97b1cbe8dea",
   "outputs": [
    {
     "name": "stdout",
     "output_type": "stream",
     "text": [
      "3\n",
      "9\n",
      "27\n",
      "81\n"
     ]
    }
   ],
   "execution_count": 3
  },
  {
   "metadata": {
    "ExecuteTime": {
     "end_time": "2025-01-06T16:18:34.797211Z",
     "start_time": "2025-01-06T16:18:34.791857Z"
    }
   },
   "cell_type": "code",
   "source": [
    "for i in range(1, 11):\n",
    "    print(i)"
   ],
   "id": "1f12eb0876c4d4c1",
   "outputs": [
    {
     "name": "stdout",
     "output_type": "stream",
     "text": [
      "1\n",
      "2\n",
      "3\n",
      "4\n",
      "5\n",
      "6\n",
      "7\n",
      "8\n",
      "9\n",
      "10\n"
     ]
    }
   ],
   "execution_count": 4
  },
  {
   "metadata": {},
   "cell_type": "code",
   "outputs": [],
   "execution_count": null,
   "source": [
    "for a in 'hola':\n",
    "    print(a)"
   ],
   "id": "fda713ec301cbac4"
  },
  {
   "metadata": {
    "ExecuteTime": {
     "end_time": "2025-01-06T16:21:38.603652Z",
     "start_time": "2025-01-06T16:21:38.598309Z"
    }
   },
   "cell_type": "code",
   "source": [
    "for i in range(1, 20, 2):\n",
    "    print(i)"
   ],
   "id": "b8319d541dd9596b",
   "outputs": [
    {
     "name": "stdout",
     "output_type": "stream",
     "text": [
      "1\n",
      "3\n",
      "5\n",
      "7\n",
      "9\n",
      "11\n",
      "13\n",
      "15\n",
      "17\n",
      "19\n"
     ]
    }
   ],
   "execution_count": 5
  },
  {
   "metadata": {
    "ExecuteTime": {
     "end_time": "2025-01-06T16:24:20.850503Z",
     "start_time": "2025-01-06T16:24:20.845535Z"
    }
   },
   "cell_type": "code",
   "source": [
    "#Ejercicio 5\n",
    "for i in range(2, 21, 3):\n",
    "    print(i)"
   ],
   "id": "2a1e550d1dfba6c2",
   "outputs": [
    {
     "name": "stdout",
     "output_type": "stream",
     "text": [
      "2\n",
      "5\n",
      "8\n",
      "11\n",
      "14\n",
      "17\n",
      "20\n"
     ]
    }
   ],
   "execution_count": 7
  },
  {
   "metadata": {
    "ExecuteTime": {
     "end_time": "2025-01-06T16:25:35.482169Z",
     "start_time": "2025-01-06T16:25:35.475603Z"
    }
   },
   "cell_type": "code",
   "source": [
    "#Ejercicio 6\n",
    "for i in range(99, -1, -11):\n",
    "    print(i)"
   ],
   "id": "e94953a3199e71ad",
   "outputs": [
    {
     "name": "stdout",
     "output_type": "stream",
     "text": [
      "99\n",
      "88\n",
      "77\n",
      "66\n",
      "55\n",
      "44\n",
      "33\n",
      "22\n",
      "11\n",
      "0\n"
     ]
    }
   ],
   "execution_count": 9
  },
  {
   "metadata": {
    "ExecuteTime": {
     "end_time": "2025-01-06T16:37:21.521278Z",
     "start_time": "2025-01-06T16:37:21.514975Z"
    }
   },
   "cell_type": "code",
   "source": [
    "n = 'laksdlkjflksaASDASyiefoixc'\n",
    "n.count('a')\n",
    "n.swapcase()\n",
    "n.startswith('hola')\n",
    "n.isdigit()"
   ],
   "id": "faa0e784c841f7f8",
   "outputs": [
    {
     "data": {
      "text/plain": [
       "False"
      ]
     },
     "execution_count": 18,
     "metadata": {},
     "output_type": "execute_result"
    }
   ],
   "execution_count": 18
  },
  {
   "metadata": {
    "ExecuteTime": {
     "end_time": "2025-01-06T16:38:37.864015Z",
     "start_time": "2025-01-06T16:38:37.859086Z"
    }
   },
   "cell_type": "code",
   "source": [
    "t = 'En u la salle aprendemos Python'\n",
    "print(t[0])"
   ],
   "id": "3faa00f1c8e11c0e",
   "outputs": [
    {
     "name": "stdout",
     "output_type": "stream",
     "text": [
      "E\n"
     ]
    }
   ],
   "execution_count": 20
  },
  {
   "metadata": {
    "ExecuteTime": {
     "end_time": "2025-01-06T16:59:28.090212Z",
     "start_time": "2025-01-06T16:59:28.082870Z"
    }
   },
   "cell_type": "code",
   "source": [
    "lista = [123,'wez43',True, 4.55]\n",
    "lista.append('Woz')\n",
    "lista.insert(1,'Woz')\n",
    "print(lista)\n",
    "lista2 = ['asd',7643,88.55213]\n",
    "lista2.extend(lista)\n",
    "print(lista2)"
   ],
   "id": "66f6351914dae4",
   "outputs": [
    {
     "name": "stdout",
     "output_type": "stream",
     "text": [
      "[123, 'Woz', 'wez43', True, 4.55, 'Woz']\n",
      "['asd', 7643, 88.55213, 123, 'Woz', 'wez43', True, 4.55, 'Woz']\n"
     ]
    }
   ],
   "execution_count": 39
  },
  {
   "metadata": {
    "ExecuteTime": {
     "end_time": "2025-01-06T16:59:15.809577Z",
     "start_time": "2025-01-06T16:59:15.804470Z"
    }
   },
   "cell_type": "code",
   "source": [
    "lista.insert(2,lista2)\n",
    "print(lista)"
   ],
   "id": "62315b7c0aee402c",
   "outputs": [
    {
     "name": "stdout",
     "output_type": "stream",
     "text": [
      "[['asd', 7643, 88.55213, 123, 'Woz', 'wez43', True, 4.55, 'Woz']]\n"
     ]
    }
   ],
   "execution_count": 37
  },
  {
   "metadata": {
    "ExecuteTime": {
     "end_time": "2025-01-06T16:52:14.367435Z",
     "start_time": "2025-01-06T16:52:14.363170Z"
    }
   },
   "cell_type": "code",
   "source": "lista.remove('Woz')",
   "id": "353ae71dab2f7af0",
   "outputs": [],
   "execution_count": 31
  },
  {
   "metadata": {
    "ExecuteTime": {
     "end_time": "2025-01-06T16:52:26.709561Z",
     "start_time": "2025-01-06T16:52:26.701771Z"
    }
   },
   "cell_type": "code",
   "source": "lista.pop(2)",
   "id": "d1e478f464f60daa",
   "outputs": [
    {
     "data": {
      "text/plain": [
       "['asd', 7643, 88.55213, 123, 'Woz', 'wez43', True, 4.55, 'Woz']"
      ]
     },
     "execution_count": 32,
     "metadata": {},
     "output_type": "execute_result"
    }
   ],
   "execution_count": 32
  },
  {
   "metadata": {
    "ExecuteTime": {
     "end_time": "2025-01-06T16:58:06.498059Z",
     "start_time": "2025-01-06T16:58:06.491360Z"
    }
   },
   "cell_type": "code",
   "source": [
    "var = lista.pop(3)\n",
    "print(var)\n",
    "print(lista)\n",
    "lista.clear()"
   ],
   "id": "d1b413c2237023c",
   "outputs": [
    {
     "name": "stdout",
     "output_type": "stream",
     "text": [
      "Woz\n",
      "[123, ['asd', 7643, 88.55213, 123, 'Woz', 'wez43', True, 4.55, 'Woz'], 'wez43']\n"
     ]
    }
   ],
   "execution_count": 35
  },
  {
   "metadata": {
    "ExecuteTime": {
     "end_time": "2025-01-07T21:18:56.566699Z",
     "start_time": "2025-01-07T21:18:56.558945Z"
    }
   },
   "cell_type": "code",
   "source": "print(lista)",
   "id": "d07df7c0db6fbdbf",
   "outputs": [
    {
     "name": "stdout",
     "output_type": "stream",
     "text": [
      "[123, 'Woz', 'wez43', True, 4.55, 'Woz']\n"
     ]
    }
   ],
   "execution_count": 44
  },
  {
   "metadata": {
    "ExecuteTime": {
     "end_time": "2025-01-07T21:18:53.842153Z",
     "start_time": "2025-01-07T21:18:53.815290Z"
    }
   },
   "cell_type": "code",
   "source": "lista.sort() #necesito que todos los elementos sean del mismo tipo para que se pueda usar el metodo Sort().",
   "id": "b11491fe5fb023a8",
   "outputs": [
    {
     "ename": "TypeError",
     "evalue": "'<' not supported between instances of 'str' and 'int'",
     "output_type": "error",
     "traceback": [
      "\u001B[1;31m---------------------------------------------------------------------------\u001B[0m",
      "\u001B[1;31mTypeError\u001B[0m                                 Traceback (most recent call last)",
      "Cell \u001B[1;32mIn[43], line 1\u001B[0m\n\u001B[1;32m----> 1\u001B[0m lista\u001B[38;5;241m.\u001B[39msort()\n",
      "\u001B[1;31mTypeError\u001B[0m: '<' not supported between instances of 'str' and 'int'"
     ]
    }
   ],
   "execution_count": 43
  },
  {
   "metadata": {},
   "cell_type": "code",
   "outputs": [],
   "execution_count": null,
   "source": "",
   "id": "3a33118d5517e531"
  }
 ],
 "metadata": {
  "kernelspec": {
   "display_name": "Python 3",
   "language": "python",
   "name": "python3"
  },
  "language_info": {
   "codemirror_mode": {
    "name": "ipython",
    "version": 2
   },
   "file_extension": ".py",
   "mimetype": "text/x-python",
   "name": "python",
   "nbconvert_exporter": "python",
   "pygments_lexer": "ipython2",
   "version": "2.7.6"
  }
 },
 "nbformat": 4,
 "nbformat_minor": 5
}
