{
 "cells": [
  {
   "cell_type": "code",
   "id": "initial_id",
   "metadata": {
    "collapsed": true,
    "ExecuteTime": {
     "end_time": "2025-01-08T03:38:37.981635Z",
     "start_time": "2025-01-08T03:38:34.080969Z"
    }
   },
   "source": [
    "#José es administrador en una fábrica de chocolates, una de sus tareas es pedir las cajas al proveedor semanalmente, en cada caja entran 12 chocolates. Hacer un programa que le pida al jefe de producción la cantidad de chocolates que se producirán diariamente la próxima semana y resolver ¿qué debe hacer José?\n",
    "chocolates_diarios = int(input(\"Ingrese la cantidad de chocolates a producir diariamente: \"))\n",
    "total_semanal = chocolates_diarios * 7\n",
    "cajas_necesarias = (total_semanal + 11) // 12  # Redondeo hacia arriba\n",
    "print(f\"José debe pedir {cajas_necesarias} cajas.\")\n"
   ],
   "outputs": [
    {
     "name": "stdout",
     "output_type": "stream",
     "text": [
      "José debe pedir 2016 cajas.\n"
     ]
    }
   ],
   "execution_count": 8
  },
  {
   "metadata": {
    "ExecuteTime": {
     "end_time": "2025-01-08T03:39:06.460834Z",
     "start_time": "2025-01-08T03:39:00.207599Z"
    }
   },
   "cell_type": "code",
   "source": [
    "#Dados los catetos de un triángulo rectángulo, calcular su hipotenusa.\n",
    "import math\n",
    "\n",
    "cateto1 = float(input(\"Ingrese el primer cateto: \"))\n",
    "cateto2 = float(input(\"Ingrese el segundo cateto: \"))\n",
    "hipotenusa = math.sqrt(cateto1**2 + cateto2**2)\n",
    "print(f\"La hipotenusa es: {hipotenusa}\")"
   ],
   "id": "648676427af92c2a",
   "outputs": [
    {
     "name": "stdout",
     "output_type": "stream",
     "text": [
      "La hipotenusa es: 48.76474136094644\n"
     ]
    }
   ],
   "execution_count": 9
  },
  {
   "metadata": {
    "ExecuteTime": {
     "end_time": "2025-01-08T03:39:23.951519Z",
     "start_time": "2025-01-08T03:39:20.198900Z"
    }
   },
   "cell_type": "code",
   "source": [
    "#Escribir un programa que convierta un valor dado en grados Fahrenheit a grados Celsius. Recordar que la fórmula para la conversión es: C = (F-32)*5/9\n",
    "fahrenheit = float(input(\"Ingrese la temperatura en grados Fahrenheit: \"))\n",
    "celsius = (fahrenheit - 32) * 5 / 9\n",
    "print(f\"La temperatura en grados Celsius es: {celsius}\")\n"
   ],
   "id": "8e3a1c301fffc524",
   "outputs": [
    {
     "name": "stdout",
     "output_type": "stream",
     "text": [
      "La temperatura en grados Celsius es: 173.88888888888889\n"
     ]
    }
   ],
   "execution_count": 10
  },
  {
   "metadata": {
    "ExecuteTime": {
     "end_time": "2025-01-08T03:39:43.310507Z",
     "start_time": "2025-01-08T03:39:38.613339Z"
    }
   },
   "cell_type": "code",
   "source": [
    "#Escriba un programa que pida dos números enteros y que escriba si el mayor es múltiplo del menor.\n",
    "num1 = int(input(\"Ingrese el primer número: \"))\n",
    "num2 = int(input(\"Ingrese el segundo número: \"))\n",
    "\n",
    "if num1 % num2 == 0:\n",
    "    print(f\"{num1} es múltiplo de {num2}\")\n",
    "else:\n",
    "    print(f\"{num1} no es múltiplo de {num2}\")\n"
   ],
   "id": "842bbfb36922105a",
   "outputs": [
    {
     "name": "stdout",
     "output_type": "stream",
     "text": [
      "21 no es múltiplo de 234324\n"
     ]
    }
   ],
   "execution_count": 11
  },
  {
   "metadata": {
    "ExecuteTime": {
     "end_time": "2025-01-08T03:40:15.381748Z",
     "start_time": "2025-01-08T03:40:00.442430Z"
    }
   },
   "cell_type": "code",
   "source": [
    "#Mejore el programa anterior haciendo que no se acepten números negativos ni cero.\n",
    "while True:\n",
    "    num1 = int(input(\"Ingrese el primer número (positivo): \"))\n",
    "    num2 = int(input(\"Ingrese el segundo número (positivo): \"))\n",
    "    if num1 > 0 and num2 > 0:\n",
    "        break\n",
    "    print(\"Ambos números deben ser positivos.\")\n",
    "\n",
    "if num1 % num2 == 0:\n",
    "    print(f\"{num1} es múltiplo de {num2}\")\n",
    "else:\n",
    "    print(f\"{num1} no es múltiplo de {num2}\")\n"
   ],
   "id": "e070b465f99c2ecd",
   "outputs": [
    {
     "name": "stdout",
     "output_type": "stream",
     "text": [
      "Ambos números deben ser positivos.\n",
      "345 no es múltiplo de 567533\n"
     ]
    }
   ],
   "execution_count": 12
  },
  {
   "metadata": {
    "ExecuteTime": {
     "end_time": "2025-01-08T03:40:34.566781Z",
     "start_time": "2025-01-08T03:40:29.127806Z"
    }
   },
   "cell_type": "code",
   "source": [
    "#Escriba un programa que pida un año y que escriba si es bisiesto o no. Se recuerda que los años bisiestos son múltiplos de 4, pero los múltiplos de 100 no lo son, aunque los múltiplos de 400 sí.\n",
    "año = int(input(\"Ingrese un año: \"))\n",
    "\n",
    "if (año % 4 == 0 and año % 100 != 0) or (año % 400 == 0):\n",
    "    print(f\"{año} es bisiesto.\")\n",
    "else:\n",
    "    print(f\"{año} no es bisiesto.\")\n"
   ],
   "id": "9f0336f970c6cc4a",
   "outputs": [
    {
     "name": "stdout",
     "output_type": "stream",
     "text": [
      "234455 no es bisiesto.\n"
     ]
    }
   ],
   "execution_count": 13
  },
  {
   "metadata": {
    "ExecuteTime": {
     "end_time": "2025-01-08T03:56:27.342967Z",
     "start_time": "2025-01-08T03:56:24.201904Z"
    }
   },
   "cell_type": "code",
   "source": [
    "#Muestra los múltiplos de 3 a partir del 3 hasta el número que el usuario indique.\n",
    "limite = int(input(\"Ingrese el número límite: \"))\n",
    "\n",
    "for i in range(3, limite + 1, 3):\n",
    "    print(i)\n"
   ],
   "id": "dd69967d71878ea",
   "outputs": [
    {
     "name": "stdout",
     "output_type": "stream",
     "text": [
      "3\n",
      "6\n",
      "9\n",
      "12\n",
      "15\n",
      "18\n",
      "21\n",
      "24\n",
      "27\n",
      "30\n",
      "33\n"
     ]
    }
   ],
   "execution_count": 28
  },
  {
   "metadata": {
    "ExecuteTime": {
     "end_time": "2025-01-08T03:41:56.353284Z",
     "start_time": "2025-01-08T03:41:42.458631Z"
    }
   },
   "cell_type": "code",
   "source": [
    "#Escriba un programa que pida dos números enteros. El programa pedirá de nuevo el segundo número mientras no sea mayor que el primero. El programa terminará escribiendo los dos números.\n",
    "num1 = int(input(\"Ingrese el primer número: \"))\n",
    "while True:\n",
    "    num2 = int(input(\"Ingrese el segundo número: \"))\n",
    "    if num2 > num1:\n",
    "        break\n",
    "    print(\"El segundo número debe ser mayor que el primero.\")\n",
    "print(f\"Números ingresados: {num1}, {num2}\")\n"
   ],
   "id": "d21a4ae75796b330",
   "outputs": [
    {
     "name": "stdout",
     "output_type": "stream",
     "text": [
      "El segundo número debe ser mayor que el primero.\n",
      "El segundo número debe ser mayor que el primero.\n",
      "El segundo número debe ser mayor que el primero.\n",
      "Números ingresados: 2134123, 123123123123123\n"
     ]
    }
   ],
   "execution_count": 16
  },
  {
   "metadata": {
    "ExecuteTime": {
     "end_time": "2025-01-08T03:43:41.024165Z",
     "start_time": "2025-01-08T03:43:31.471683Z"
    }
   },
   "cell_type": "code",
   "source": [
    "#Escriba un programa que pida números enteros mientras sean cada vez más grandes.\n",
    "anterior = int(input(\"Ingrese un número: \"))\n",
    "\n",
    "while True:\n",
    "    actual = int(input(\"Ingrese otro número: \"))\n",
    "    if actual <= anterior:\n",
    "        print(\"El número ingresado no es mayor.\")\n",
    "        break\n",
    "    anterior = actual\n"
   ],
   "id": "683ee6dbd64cf12e",
   "outputs": [
    {
     "name": "stdout",
     "output_type": "stream",
     "text": [
      "El número ingresado no es mayor.\n"
     ]
    }
   ],
   "execution_count": 20
  },
  {
   "metadata": {
    "ExecuteTime": {
     "end_time": "2025-01-08T03:44:00.679933Z",
     "start_time": "2025-01-08T03:43:54.448416Z"
    }
   },
   "cell_type": "code",
   "source": [
    "#Escriba un programa que pida las notas de un grupo, se le preguntará al usuario si quiere seguir ingresando notas, y mientras la respuesta sea Sí/SÍ/sí, se debe seguir ingresando. Al finalizar el ingreso de notas, se debe mostrar una lista de las notas aprobadas y otra de las desaprobadas.\n",
    "aprobadas = []\n",
    "desaprobadas = []\n",
    "\n",
    "while True:\n",
    "    nota = float(input(\"Ingrese una nota: \"))\n",
    "    if nota >= 10.5:\n",
    "        aprobadas.append(nota)\n",
    "    else:\n",
    "        desaprobadas.append(nota)\n",
    "    respuesta = input(\"¿Desea ingresar otra nota? (Sí/No): \").strip().lower()\n",
    "    if respuesta != \"sí\":\n",
    "        break\n",
    "\n",
    "print(f\"Notas aprobadas: {aprobadas}\")\n",
    "print(f\"Notas desaprobadas: {desaprobadas}\")\n"
   ],
   "id": "781969524872a6",
   "outputs": [
    {
     "name": "stdout",
     "output_type": "stream",
     "text": [
      "Notas aprobadas: [14.0]\n",
      "Notas desaprobadas: []\n"
     ]
    }
   ],
   "execution_count": 22
  },
  {
   "metadata": {
    "ExecuteTime": {
     "end_time": "2025-01-08T03:45:00.458265Z",
     "start_time": "2025-01-08T03:44:22.440429Z"
    }
   },
   "cell_type": "code",
   "source": [
    "#Pedir el nombre de 5 asignaturas y su notas respectivas, luego mostrar los mensajes: “En la asignatura XXXXXXX sacó XXXXXX, para cada asignatura.\n",
    "for i in range(5):\n",
    "    asignatura = input(f\"Ingrese el nombre de la asignatura {i + 1}: \")\n",
    "    nota = input(f\"Ingrese la nota de {asignatura}: \")\n",
    "    print(f\"En la asignatura {asignatura} sacó {nota}.\")\n"
   ],
   "id": "2d502b4aa3508374",
   "outputs": [
    {
     "name": "stdout",
     "output_type": "stream",
     "text": [
      "En la asignatura DAW I sacó 18.\n",
      "En la asignatura sadasd sacó 07.\n",
      "En la asignatura asdasdf sacó 23.\n",
      "En la asignatura asdfzcxv sacó 23.\n",
      "En la asignatura sdsgvcxb sacó 76.\n"
     ]
    }
   ],
   "execution_count": 23
  },
  {
   "metadata": {
    "ExecuteTime": {
     "end_time": "2025-01-08T03:45:14.498219Z",
     "start_time": "2025-01-08T03:45:10.251176Z"
    }
   },
   "cell_type": "code",
   "source": [
    "\"\"\"Un estacionamiento cobra S/3.00 por la primera hora, luego S/0.50 por cada hora siguiente. El cargo máximo por día es de S/12.00. Programe una función para que al ingresar el número de horas se imprima el cargo.\"\"\"\n",
    "def calcular_cargo(horas):\n",
    "    if horas <= 1:\n",
    "        return 3.00\n",
    "    else:\n",
    "        cargo = 3.00 + (horas - 1) * 0.50\n",
    "        return min(cargo, 12.00)\n",
    "\n",
    "horas = int(input(\"Ingrese el número de horas: \"))\n",
    "print(f\"El cargo es: S/{calcular_cargo(horas)}\")\n"
   ],
   "id": "f7667f91c32b3c72",
   "outputs": [
    {
     "name": "stdout",
     "output_type": "stream",
     "text": [
      "El cargo es: S/6.0\n"
     ]
    }
   ],
   "execution_count": 24
  },
  {
   "metadata": {
    "ExecuteTime": {
     "end_time": "2025-01-08T03:46:05.618285Z",
     "start_time": "2025-01-08T03:46:02.584815Z"
    }
   },
   "cell_type": "code",
   "source": [
    "#Escriba una función que reciba dos números y determine si el primero es múltiplo del segundo.\n",
    "def es_multiplo(a, b):\n",
    "    return a % b == 0\n",
    "\n",
    "num1 = int(input(\"Ingrese el primer número: \"))\n",
    "num2 = int(input(\"Ingrese el segundo número: \"))\n",
    "if es_multiplo(num1, num2):\n",
    "    print(f\"{num1} es múltiplo de {num2}\")\n",
    "else:\n",
    "    print(f\"{num1} no es múltiplo de {num2}\")\n"
   ],
   "id": "d2e16ca686386bd1",
   "outputs": [
    {
     "name": "stdout",
     "output_type": "stream",
     "text": [
      "25 es múltiplo de 5\n"
     ]
    }
   ],
   "execution_count": 26
  },
  {
   "metadata": {
    "ExecuteTime": {
     "end_time": "2025-01-08T03:46:40.686294Z",
     "start_time": "2025-01-08T03:46:32.523198Z"
    }
   },
   "cell_type": "code",
   "source": [
    "#El usuario ingresará un número de horas, de minutos y segundos y nos devuelva el equivalente en segundos.\n",
    "horas = int(input(\"Ingrese el número de horas: \"))\n",
    "minutos = int(input(\"Ingrese el número de minutos: \"))\n",
    "segundos = int(input(\"Ingrese el número de segundos: \"))\n",
    "\n",
    "total_segundos = horas * 3600 + minutos * 60 + segundos\n",
    "print(f\"El equivalente en segundos es: {total_segundos}\")\n"
   ],
   "id": "5c9f6340f58a988b",
   "outputs": [
    {
     "name": "stdout",
     "output_type": "stream",
     "text": [
      "El equivalente en segundos es: 16430641\n"
     ]
    }
   ],
   "execution_count": 27
  }
 ],
 "metadata": {
  "kernelspec": {
   "display_name": "Python 3",
   "language": "python",
   "name": "python3"
  },
  "language_info": {
   "codemirror_mode": {
    "name": "ipython",
    "version": 2
   },
   "file_extension": ".py",
   "mimetype": "text/x-python",
   "name": "python",
   "nbconvert_exporter": "python",
   "pygments_lexer": "ipython2",
   "version": "2.7.6"
  }
 },
 "nbformat": 4,
 "nbformat_minor": 5
}
