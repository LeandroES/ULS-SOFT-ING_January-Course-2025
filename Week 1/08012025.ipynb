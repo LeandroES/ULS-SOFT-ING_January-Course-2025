{
 "cells": [
  {
   "cell_type": "code",
   "id": "initial_id",
   "metadata": {
    "collapsed": true,
    "ExecuteTime": {
     "end_time": "2025-01-08T14:28:36.515642Z",
     "start_time": "2025-01-08T14:28:36.510207Z"
    }
   },
   "source": [
    "#listas y multitablas\n",
    "a = ['hola', 'meta', 'Alphabet', 'Black Mesa']\n",
    "print(a)\n",
    "a[-1]=10\n",
    "print(a)\n",
    "\n",
    "b = a[:]\n",
    "print(id(b))\n",
    "print(id(a))\n",
    "\n",
    "#Slices\n",
    "\n"
   ],
   "outputs": [
    {
     "name": "stdout",
     "output_type": "stream",
     "text": [
      "['hola', 'meta', 'Alphabet', 'Black Mesa']\n",
      "['hola', 'meta', 'Alphabet', 10]\n",
      "2108249258624\n",
      "2108253553728\n"
     ]
    }
   ],
   "execution_count": 6
  },
  {
   "metadata": {
    "ExecuteTime": {
     "end_time": "2025-01-08T14:36:28.398053Z",
     "start_time": "2025-01-08T14:36:28.392197Z"
    }
   },
   "cell_type": "code",
   "source": [
    "#list comprenhension\n",
    "a = 11\n",
    "l1 = list(range(1,a))\n",
    "print(l1)\n",
    "\n",
    "l2 = [i * 10 for i in range(1,a)]\n",
    "print(l2)\n",
    "\n",
    "lpar = [i for i in l1 if i%2==0]\n",
    "print(lpar)"
   ],
   "id": "973c936506dbb24d",
   "outputs": [
    {
     "name": "stdout",
     "output_type": "stream",
     "text": [
      "[1, 2, 3, 4, 5, 6, 7, 8, 9, 10]\n",
      "[10, 20, 30, 40, 50, 60, 70, 80, 90, 100]\n",
      "[2, 4, 6, 8, 10]\n"
     ]
    }
   ],
   "execution_count": 11
  },
  {
   "metadata": {
    "ExecuteTime": {
     "end_time": "2025-01-08T14:39:51.780898Z",
     "start_time": "2025-01-08T14:39:51.774783Z"
    }
   },
   "cell_type": "code",
   "source": [
    "lodd = list(range(1,31,3))\n",
    "print(lodd)\n",
    "lodd = [(i+1)*3 for i in lodd if i%4 <2]\n",
    "print(lodd)"
   ],
   "id": "2d75e0b6cd05c319",
   "outputs": [
    {
     "name": "stdout",
     "output_type": "stream",
     "text": [
      "[1, 4, 7, 10, 13, 16, 19, 22, 25, 28]\n",
      "[6, 15, 42, 51, 78, 87]\n"
     ]
    }
   ],
   "execution_count": 15
  },
  {
   "metadata": {
    "ExecuteTime": {
     "end_time": "2025-01-08T14:51:10.303371Z",
     "start_time": "2025-01-08T14:51:10.296426Z"
    }
   },
   "cell_type": "code",
   "source": [
    "l = ['A','B','C','D','E','F']\n",
    "print(l)\n",
    "#l.insert(-1,'G')\n",
    "l.append('G')\n",
    "l.remove('C')\n",
    "l.reverse()\n",
    "print(l)"
   ],
   "id": "5586d649c0d31be3",
   "outputs": [
    {
     "name": "stdout",
     "output_type": "stream",
     "text": [
      "['A', 'B', 'C', 'D', 'E', 'F']\n",
      "['G', 'F', 'E', 'D', 'B', 'A']\n"
     ]
    }
   ],
   "execution_count": 26
  },
  {
   "metadata": {
    "ExecuteTime": {
     "end_time": "2025-01-08T15:12:30.963328Z",
     "start_time": "2025-01-08T15:11:57.236757Z"
    }
   },
   "cell_type": "code",
   "source": [
    "aprobadas = []\n",
    "desaprobadas = []\n",
    "while True:\n",
    "    nota = float(input(\"Ingrese una nota: \"))\n",
    "    aprobadas.append(nota) if nota >= 11.5 else desaprobadas.append(nota)\n",
    "    respuesta = input(\"¿Desea ingresar otra nota? (Sí/No): \").strip().lower()\n",
    "    if respuesta != \"si\":\n",
    "        break\n",
    "print(f\"Notas aprobadas: {aprobadas}\")\n",
    "print(f\"Notas desaprobadas: {desaprobadas}\")\n"
   ],
   "id": "3427da98b76d2614",
   "outputs": [
    {
     "name": "stdout",
     "output_type": "stream",
     "text": [
      "Notas aprobadas: [12.0, 29.0, 89.0, 43.0]\n",
      "Notas desaprobadas: []\n"
     ]
    }
   ],
   "execution_count": 31
  },
  {
   "metadata": {
    "ExecuteTime": {
     "end_time": "2025-01-08T15:44:21.402308Z",
     "start_time": "2025-01-08T15:44:21.395823Z"
    }
   },
   "cell_type": "code",
   "source": [
    "#Funciones\n",
    "def suma(*n):\n",
    "    s = 0\n",
    "    for i in n:\n",
    "        s = s + i\n",
    "    print(s)\n",
    "\n",
    "suma(1,2,3,4,5,6,7,8,9)\n"
   ],
   "id": "78f34d847f7a5d2f",
   "outputs": [
    {
     "name": "stdout",
     "output_type": "stream",
     "text": [
      "45\n"
     ]
    }
   ],
   "execution_count": 4
  },
  {
   "metadata": {
    "ExecuteTime": {
     "end_time": "2025-01-08T15:46:13.040743Z",
     "start_time": "2025-01-08T15:46:13.034820Z"
    }
   },
   "cell_type": "code",
   "source": [
    "def funcion():\n",
    "    x=10\n",
    "    print(x)\n",
    "    def funcion_interna():\n",
    "        print(x)\n",
    "    funcion_interna()\n",
    "funcion()"
   ],
   "id": "5dc2f8440972e0bd",
   "outputs": [
    {
     "name": "stdout",
     "output_type": "stream",
     "text": [
      "10\n",
      "10\n"
     ]
    }
   ],
   "execution_count": 5
  },
  {
   "metadata": {
    "ExecuteTime": {
     "end_time": "2025-01-08T15:46:59.593408Z",
     "start_time": "2025-01-08T15:46:59.587622Z"
    }
   },
   "cell_type": "code",
   "source": [
    "def funcion():\n",
    "    x=10\n",
    "    print(x)\n",
    "    def funcion_interna():\n",
    "        nonlocal x\n",
    "        x=5\n",
    "        print(x)\n",
    "    funcion_interna()\n",
    "funcion()"
   ],
   "id": "7e989681d281158c",
   "outputs": [
    {
     "name": "stdout",
     "output_type": "stream",
     "text": [
      "10\n",
      "5\n"
     ]
    }
   ],
   "execution_count": 7
  },
  {
   "metadata": {
    "ExecuteTime": {
     "end_time": "2025-01-08T15:53:35.053458Z",
     "start_time": "2025-01-08T15:53:27.474821Z"
    }
   },
   "cell_type": "code",
   "source": [
    "def PENtoUSD():\n",
    "    PEN = float(input(\"Ingrese el monto en soles: \"))\n",
    "    USD = PEN / 3.8\n",
    "    print(f\"El monto en dólares es: {USD}\")\n",
    "\n",
    "\n",
    "def PENtoEUR():\n",
    "    PEN = float(input(\"Ingrese el monto en soles: \"))\n",
    "    EUR = PEN / 4.5\n",
    "    print(f\"El monto en euros es: {EUR}\")\n",
    "\n",
    "\n",
    "#consultar al usuario si quiere cambiar soles a dolares o euros, luego pida el valor en soles y muestre el valor en dolares o euros\n",
    "def cambio():\n",
    "    moneda = (input(\"¿Desea cambiar soles a dólares o euros? \")).strip().lower()\n",
    "    if moneda == \"usd\":\n",
    "        PENtoUSD()\n",
    "    elif moneda == \"eur\":\n",
    "        PENtoEUR()\n",
    "    else:\n",
    "        print(\"Opción inválida\")\n",
    "cambio()\n",
    "#Funciones lambda\n",
    "#suma = lambda x, y: x + y\n"
   ],
   "id": "df10564391e2926",
   "outputs": [
    {
     "name": "stdout",
     "output_type": "stream",
     "text": [
      "El monto en dólares es: 32.36842105263158\n"
     ]
    }
   ],
   "execution_count": 15
  },
  {
   "metadata": {
    "ExecuteTime": {
     "end_time": "2025-01-08T16:11:43.636559Z",
     "start_time": "2025-01-08T16:11:43.628707Z"
    }
   },
   "cell_type": "code",
   "source": [
    "#programe una funcion menor que reciba n numeros decimales y devuelva el menor de los 3\n",
    "def menor(*n):\n",
    "    m = n[0]\n",
    "    for i in n:\n",
    "        if i < m:\n",
    "            m = i\n",
    "    return m\n",
    "print(menor(100,2,3,4,5,6,7,8,9))\n",
    "menor(100,2,3,4,5,6,7,8,9)"
   ],
   "id": "14705740382c5f6f",
   "outputs": [
    {
     "name": "stdout",
     "output_type": "stream",
     "text": [
      "2\n"
     ]
    },
    {
     "data": {
      "text/plain": [
       "2"
      ]
     },
     "execution_count": 35,
     "metadata": {},
     "output_type": "execute_result"
    }
   ],
   "execution_count": 35
  },
  {
   "metadata": {
    "ExecuteTime": {
     "end_time": "2025-01-08T16:05:00.641966Z",
     "start_time": "2025-01-08T16:05:00.635541Z"
    }
   },
   "cell_type": "code",
   "source": [
    "#un estacionamiento cobra 3 soles por la primera hora, luego 0.5 soles por cada hora adicional. el cargo maximo por dia es de 12 soles, programe una funcion para que al ingresar el numero de horas se imprima el cargo total\n",
    "def estacionamiento(horas):\n",
    "    if horas <= 1:\n",
    "        print(3)\n",
    "    elif horas <= 8:\n",
    "        print(3 + 0.5 * (horas - 1))\n",
    "    else:\n",
    "        print(12)\n",
    "estacionamiento(5.3)"
   ],
   "id": "9e44cb494e4383a8",
   "outputs": [
    {
     "name": "stdout",
     "output_type": "stream",
     "text": [
      "5.15\n"
     ]
    }
   ],
   "execution_count": 25
  },
  {
   "metadata": {
    "ExecuteTime": {
     "end_time": "2025-01-08T16:05:54.392627Z",
     "start_time": "2025-01-08T16:05:54.387192Z"
    }
   },
   "cell_type": "code",
   "source": [
    "#escriba una funcion que reciba dos numeros y determine si el primero es multiplo del segundo\n",
    "def multiplo(a,b):\n",
    "    if a % b == 0:\n",
    "        print(f\"{a} es múltiplo de {b}\")\n",
    "    else:\n",
    "        print(f\"{a} no es múltiplo de {b}\")\n",
    "multiplo(39874247,63)"
   ],
   "id": "8e4bdb7744d23054",
   "outputs": [
    {
     "name": "stdout",
     "output_type": "stream",
     "text": [
      "39874247 no es múltiplo de 63\n"
     ]
    }
   ],
   "execution_count": 28
  },
  {
   "metadata": {
    "ExecuteTime": {
     "end_time": "2025-01-08T16:08:27.630126Z",
     "start_time": "2025-01-08T16:08:27.624676Z"
    }
   },
   "cell_type": "code",
   "source": [
    "#el usuario ingresara un numero de horas de minutos y segundos y nos devolvera el tiempo en segundos\n",
    "def tiempo(horas, minutos, segundos):\n",
    "    print(horas * 3600 + minutos * 60 + segundos)\n",
    "tiempo(23,2,3)"
   ],
   "id": "c95cdc812c006e21",
   "outputs": [
    {
     "name": "stdout",
     "output_type": "stream",
     "text": [
      "82923\n"
     ]
    }
   ],
   "execution_count": 33
  },
  {
   "metadata": {
    "ExecuteTime": {
     "end_time": "2025-01-08T16:13:30.220858Z",
     "start_time": "2025-01-08T16:13:30.215368Z"
    }
   },
   "cell_type": "code",
   "source": [
    "#Tuplas y diccionarios\n",
    "t = (1,2,3,4,5)\n",
    "print(t)"
   ],
   "id": "e95846d05936bc6e",
   "outputs": [
    {
     "name": "stdout",
     "output_type": "stream",
     "text": [
      "(1, 2, 3, 4, 5)\n"
     ]
    }
   ],
   "execution_count": 37
  },
  {
   "metadata": {
    "ExecuteTime": {
     "end_time": "2025-01-08T16:13:40.181869Z",
     "start_time": "2025-01-08T16:13:40.177128Z"
    }
   },
   "cell_type": "code",
   "source": [
    "#diccionarios\n",
    "d = {'a':1, 'b':2, 'c':3}\n",
    "print(d)"
   ],
   "id": "1fa71a78498c9608",
   "outputs": [
    {
     "name": "stdout",
     "output_type": "stream",
     "text": [
      "{'a': 1, 'b': 2, 'c': 3}\n"
     ]
    }
   ],
   "execution_count": 38
  },
  {
   "metadata": {
    "ExecuteTime": {
     "end_time": "2025-01-08T16:14:25.565675Z",
     "start_time": "2025-01-08T16:14:25.559856Z"
    }
   },
   "cell_type": "code",
   "source": [
    "#tabla hash\n",
    "def hash_table(key):\n",
    "    return key % 10\n",
    "print(hash_table(123))\n"
   ],
   "id": "72bb39ba17d006e8",
   "outputs": [
    {
     "name": "stdout",
     "output_type": "stream",
     "text": [
      "3\n"
     ]
    }
   ],
   "execution_count": 39
  },
  {
   "metadata": {
    "ExecuteTime": {
     "end_time": "2025-01-08T16:14:51.959016Z",
     "start_time": "2025-01-08T16:14:51.953887Z"
    }
   },
   "cell_type": "code",
   "source": [
    "#diccionario con tuplas\n",
    "d = {('a',1):'hola', ('b',2):'mundo'}\n",
    "print(d)"
   ],
   "id": "ffc0cbf820fb9880",
   "outputs": [
    {
     "name": "stdout",
     "output_type": "stream",
     "text": [
      "{('a', 1): 'hola', ('b', 2): 'mundo'}\n"
     ]
    }
   ],
   "execution_count": 40
  },
  {
   "metadata": {
    "ExecuteTime": {
     "end_time": "2025-01-08T16:21:39.552293Z",
     "start_time": "2025-01-08T16:21:39.544984Z"
    }
   },
   "cell_type": "code",
   "source": [
    "lista = [1,2,3,4,5,6,7,8,9,10]\n",
    "print(lista[:])\n",
    "print(lista[0::2])\n",
    "print(lista[:2])\n",
    "print(lista[2:])\n"
   ],
   "id": "22b1684fd9de6799",
   "outputs": [
    {
     "name": "stdout",
     "output_type": "stream",
     "text": [
      "[1, 2, 3, 4, 5, 6, 7, 8, 9, 10]\n",
      "[1, 3, 5, 7, 9]\n",
      "[1, 2]\n",
      "[3, 4, 5, 6, 7, 8, 9, 10]\n"
     ]
    }
   ],
   "execution_count": 41
  },
  {
   "metadata": {},
   "cell_type": "code",
   "outputs": [],
   "execution_count": null,
   "source": "",
   "id": "2244fe13018bf8ac"
  }
 ],
 "metadata": {
  "kernelspec": {
   "display_name": "Python 3",
   "language": "python",
   "name": "python3"
  },
  "language_info": {
   "codemirror_mode": {
    "name": "ipython",
    "version": 2
   },
   "file_extension": ".py",
   "mimetype": "text/x-python",
   "name": "python",
   "nbconvert_exporter": "python",
   "pygments_lexer": "ipython2",
   "version": "2.7.6"
  }
 },
 "nbformat": 4,
 "nbformat_minor": 5
}
